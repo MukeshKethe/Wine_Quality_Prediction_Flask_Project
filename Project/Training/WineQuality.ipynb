{
 "cells": [
  {
   "cell_type": "code",
   "execution_count": 3,
   "id": "72921c62",
   "metadata": {},
   "outputs": [],
   "source": [
    "import numpy as np \n",
    "import pandas as pd \n",
    "import seaborn as sns \n",
    "import matplotlib.pyplot as plt \n",
    "from sklearn.preprocessing import LabelEncoder \n",
    "from sklearn.model_selection import train_test_split \n",
    "from sklearn.preprocessing import StandardScaler \n",
    "from sklearn.tree import DecisionTreeClassifier \n",
    "from sklearn.ensemble import RandomForestClassifier, GradientBoostingClassifier \n",
    "from sklearn.linear_model import LogisticRegression \n",
    "from sklearn.metrics import classification_report, confusion_matrix \n",
    "from sklearn.linear_model import SGDClassifier \n",
    "from sklearn.model_selection import GridSearchCV, cross_val_score \n",
    "from sklearn.svm import SVC \n",
    "import pickle"
   ]
  },
  {
   "cell_type": "code",
   "execution_count": null,
   "id": "2a008a0f",
   "metadata": {},
   "outputs": [],
   "source": [
    "data = pd.read_csv(Provide the directory path for the \"WineQualityN.csv\" here, Example:- r\"C(Your_Drive_Name):/Your_Folder_Name(s)/Dataset/WineQualityN.csv\")\n",
    "data.head()"
   ]
  },
  {
   "cell_type": "code",
   "execution_count": null,
   "id": "36e5b2c9",
   "metadata": {},
   "outputs": [],
   "source": [
    "data.columns"
   ]
  },
  {
   "cell_type": "code",
   "execution_count": null,
   "id": "1c25fc8f",
   "metadata": {},
   "outputs": [],
   "source": [
    "df = data.select_dtypes(include='object')\n",
    "df.head()"
   ]
  },
  {
   "cell_type": "code",
   "execution_count": null,
   "id": "8e585f71",
   "metadata": {},
   "outputs": [],
   "source": [
    "plt.figure(figsize=(18, 4))\n",
    "for i, j in enumerate(df):\n",
    "    plt.subplot(1, 4, i+1)\n",
    "    sns.countplot(x=j, data=df)"
   ]
  },
  {
   "cell_type": "code",
   "execution_count": null,
   "id": "b4e15775",
   "metadata": {},
   "outputs": [],
   "source": [
    "axarr = data.hist(column=['quality'], bins=100, figsize=(6, 6))\n",
    "ax = axarr.flatten()[0]\n",
    "ax.set_xlabel(f\"{ax.get_title()} value\")\n",
    "ax.set_ylabel(\"Quantity\")\n",
    "title = ax.get_title()\n",
    "ax.set_title(f\"Histogram of {title}\")\n",
    "plt.show()"
   ]
  },
  {
   "cell_type": "code",
   "execution_count": null,
   "id": "c44a978f",
   "metadata": {},
   "outputs": [],
   "source": [
    "plt.scatter(data['quality'],data['fixed acidity'],color = 'green')\n",
    "plt.title('relation of fixed acidity with wine')\n",
    "plt.xlabel('quality')\n",
    "plt.ylabel('fixed acidity')\n",
    "plt.legend()\n",
    "plt.show ()"
   ]
  },
  {
   "cell_type": "code",
   "execution_count": null,
   "id": "9dd14ceb",
   "metadata": {},
   "outputs": [],
   "source": [
    "plt.bar(data['quality'],data['alcohol'],color = 'maroon')\n",
    "plt.title('relation of alcohol with wine')\n",
    "plt.xlabel('quality')\n",
    "plt.ylabel ('alcohol')\n",
    "plt.legend()\n",
    "plt.show ()"
   ]
  },
  {
   "cell_type": "code",
   "execution_count": null,
   "id": "c98ef0a0",
   "metadata": {},
   "outputs": [],
   "source": [
    "fig = plt.figure(figsize = (10,6))\n",
    "sns.barplot(x ='quality', y ='citric acid', data = data)"
   ]
  },
  {
   "cell_type": "code",
   "execution_count": null,
   "id": "3bc7d380",
   "metadata": {},
   "outputs": [],
   "source": [
    "fig = plt. figure(figsize = (10,6))\n",
    "sns.barplot (x = 'quality', y = 'residual sugar', data = data)"
   ]
  },
  {
   "cell_type": "code",
   "execution_count": null,
   "id": "ecd4477d",
   "metadata": {},
   "outputs": [],
   "source": [
    "fig = plt.figure(figsize = (10, 6))\n",
    "sns.barplot(x = 'quality', y = 'free sulfur dioxide', data = data)"
   ]
  },
  {
   "cell_type": "code",
   "execution_count": null,
   "id": "e0efffdc",
   "metadata": {},
   "outputs": [],
   "source": [
    "fig = plt.figure(figsize = (10,6) )\n",
    "sns.barplot(x = 'quality', y = 'sulphates', data = data)"
   ]
  },
  {
   "cell_type": "code",
   "execution_count": null,
   "id": "688a19bb",
   "metadata": {},
   "outputs": [],
   "source": [
    "fig = plt.figure(figsize = (10, 6))\n",
    "sns.barplot(x = 'quality', y = 'chlorides', data = data)"
   ]
  },
  {
   "cell_type": "code",
   "execution_count": null,
   "id": "5db7a7e6",
   "metadata": {},
   "outputs": [],
   "source": [
    "data.describe()"
   ]
  },
  {
   "cell_type": "code",
   "execution_count": null,
   "id": "8b2f88e0",
   "metadata": {},
   "outputs": [],
   "source": [
    "data.head()"
   ]
  },
  {
   "cell_type": "code",
   "execution_count": null,
   "id": "0fc9237c",
   "metadata": {},
   "outputs": [],
   "source": [
    "data = data.drop(['volatile acidity', 'total sulfur dioxide', 'chlorides','density'], axis = 1)\n",
    "\n",
    "print (data. shape)"
   ]
  },
  {
   "cell_type": "code",
   "execution_count": null,
   "id": "9f6da4a7",
   "metadata": {},
   "outputs": [],
   "source": [
    "data['quality'] = data['quality'].map({3 : 'bad', 4 : 'bad', 5: 'bad',6: 'good', 7: 'good', 8: 'good'})\n",
    "data ['quality'].value_counts()"
   ]
  },
  {
   "cell_type": "code",
   "execution_count": null,
   "id": "b1126657",
   "metadata": {},
   "outputs": [],
   "source": [
    "data.isnull().any()"
   ]
  },
  {
   "cell_type": "code",
   "execution_count": null,
   "id": "3d87868b",
   "metadata": {},
   "outputs": [],
   "source": [
    "data.isnull().sum()"
   ]
  },
  {
   "cell_type": "code",
   "execution_count": null,
   "id": "2d78ee38",
   "metadata": {},
   "outputs": [],
   "source": [
    "data[\"fixed acidity\"].fillna(data[\"fixed acidity\"].mean(),inplace = True)\n",
    "data[\"sulphates\"].fillna(data[\"sulphates\"].mean(),inplace = True)\n",
    "data[\"pH\"].fillna(data[\"pH\"].mean(),inplace = True)\n",
    "data[\"residual sugar\"].fillna(data[\"residual sugar\"].mean(),inplace = True)\n",
    "data[\"citric acid\"].fillna(data[\"citric acid\"].mean(),inplace = True)\n",
    "data[\"quality\"].fillna(data[\"quality\"].mode()[0],inplace=True)"
   ]
  },
  {
   "cell_type": "code",
   "execution_count": 91,
   "id": "a301ab9e",
   "metadata": {},
   "outputs": [],
   "source": [
    "le = LabelEncoder()\n",
    "data['quality'] = le.fit_transform(data['quality'])\n",
    "data['type'] = le.fit_transform(data['type'])"
   ]
  },
  {
   "cell_type": "code",
   "execution_count": null,
   "id": "a8feda6c",
   "metadata": {},
   "outputs": [],
   "source": [
    "x = data.iloc[:,:8]\n",
    "y = data.iloc[:,8:9]\n",
    "print(x.shape)\n",
    "print (y.shape)"
   ]
  },
  {
   "cell_type": "code",
   "execution_count": null,
   "id": "4b2902cc",
   "metadata": {},
   "outputs": [],
   "source": [
    "x_train, x_test, y_train, y_test = train_test_split(x, y, test_size = 0.25, random_state = 44)\n",
    "print (x_train. shape)\n",
    "print (y_train.shape)\n",
    "print(x_test.shape)\n",
    "print (y_test.shape)"
   ]
  },
  {
   "cell_type": "code",
   "execution_count": 94,
   "id": "7d48cf0e",
   "metadata": {},
   "outputs": [],
   "source": [
    "sc = StandardScaler()\n",
    "x_train = sc.fit_transform(x_train)\n",
    "x_test = sc.fit_transform(x_test)"
   ]
  },
  {
   "cell_type": "code",
   "execution_count": 95,
   "id": "981899fe",
   "metadata": {},
   "outputs": [],
   "source": [
    "def logisticRegression(x_train, x_test, y_train, y_test):\n",
    "    model = LogisticRegression()\n",
    "    model.fit (x_train, y_train)\n",
    "    y_pred = model.predict(x_test)\n",
    "    print('***logisticRegression***')\n",
    "    print(\"Training accuracy :\", model.score(x_train, y_train))\n",
    "    print(\"Testing accuracy :\", model.score(x_test, y_test))\n",
    "    print (classification_report(y_test, y_pred))\n",
    "    print (confusion_matrix(y_test, y_pred))"
   ]
  },
  {
   "cell_type": "code",
   "execution_count": 96,
   "id": "13ded192",
   "metadata": {},
   "outputs": [],
   "source": [
    "def SGD(x_train, x_test, y_train, y_test):\n",
    "    model = SGDClassifier(penalty=None)\n",
    "    model.fit(x_train, y_train)\n",
    "    y_pred = model.predict(x_test)\n",
    "    print('***Stochastic Gradient Descent Classifier***')\n",
    "    print(\"Training accuracy :\", model.score(x_train, y_train))\n",
    "    print(\"Testing accuracy :\", model.score(x_test, y_test))\n",
    "    print(classification_report(y_test, y_pred))\n",
    "    print(confusion_matrix(y_test, y_pred))"
   ]
  },
  {
   "cell_type": "code",
   "execution_count": 97,
   "id": "494ec439",
   "metadata": {},
   "outputs": [],
   "source": [
    "def SVClassifier(x_train, x_test, y_train, y_test) :\n",
    "    model = SVC()\n",
    "    model.fit(x_train, y_train)\n",
    "    y_pred = model.predict(x_test)\n",
    "    print('***Support Vector Classifier***')\n",
    "    print(\"Training accuracy :\", model.score(x_train, y_train))\n",
    "    print(\"Testing accuracy :\", model.score(x_test, y_test))\n",
    "    print(classification_report(y_test, y_pred))\n",
    "    print(confusion_matrix(y_test, y_pred))"
   ]
  },
  {
   "cell_type": "code",
   "execution_count": 98,
   "id": "65c935c6",
   "metadata": {},
   "outputs": [],
   "source": [
    "def decisionTree(x_train, x_test, y_train, y_test):\n",
    "    dt=DecisionTreeClassifier()\n",
    "    dt.fit(x_train,y_train)\n",
    "    y_pred = dt.predict(x_test)\n",
    "    print('***DecisionTreeClassifier***')\n",
    "    print(\"Training accuracy :\", dt.score(x_train, y_train))\n",
    "    print(\"Testing accuracy :\", dt.score(x_test, y_test))\n",
    "    print('Confusion matrix')\n",
    "    print(confusion_matrix(y_test,y_pred))\n",
    "    print('Classification report')\n",
    "    print (classification_report (y_test,y_pred))"
   ]
  },
  {
   "cell_type": "code",
   "execution_count": 99,
   "id": "56e3a416",
   "metadata": {},
   "outputs": [],
   "source": [
    "def randomForest(x_train, x_test, y_train, y_test) :\n",
    "    rf = RandomForestClassifier ()\n",
    "    rf.fit (x_train,y_train)\n",
    "    y_pred = rf.predict(x_test)\n",
    "    print('***RandomForestClassifier***')\n",
    "    print(\"Training accuracy :\" , rf.score(x_train, y_train)) \n",
    "    print(\"Testing accuracy :\", rf.score(x_test, y_test))\n",
    "    print('Confusion matrix')\n",
    "    print(confusion_matrix(y_test,y_pred))\n",
    "    print('Classification report')\n",
    "    print(classification_report(y_test,y_pred))"
   ]
  },
  {
   "cell_type": "code",
   "execution_count": 100,
   "id": "ee740e9a",
   "metadata": {},
   "outputs": [],
   "source": [
    "def xgboost(x_train, x_test, y_train, y_test) :\n",
    "    xg = GradientBoostingClassifier()\n",
    "    xg.fit (x_train, y_train) \n",
    "    y_pred = xg.predict(x_test)\n",
    "    print('***GradientBoostingClassifier***')\n",
    "    print(\"Training accuracy :\", xg.score(x_train, y_train))\n",
    "    print(\"Testing accuracy :\" , xg.score(x_test, y_test))\n",
    "    print('Confusion matrix')\n",
    "    print (confusion_matrix(y_test,y_pred))\n",
    "    print('Classification report')\n",
    "    print(classification_report(y_test,y_pred))"
   ]
  },
  {
   "cell_type": "code",
   "execution_count": null,
   "id": "c6e9ae9f",
   "metadata": {},
   "outputs": [],
   "source": [
    "def compareModel(x_train, x_test, y_train, y_test):\n",
    "    logisticRegression(x_train, x_test, y_train, y_test)\n",
    "    print('-'*100)\n",
    "    SGD(x_train, x_test, y_train, y_test)\n",
    "    print('-'*100)\n",
    "    SVClassifier(x_train, x_test, y_train, y_test)\n",
    "    print('-'*100)\n",
    "    decisionTree(x_train, x_test, y_train, y_test)\n",
    "    print('-'*100)\n",
    "    randomForest(x_train, x_test, y_train, y_test)\n",
    "    print('-'*100)\n",
    "    xgboost(x_train,x_test, y_train, y_test)\n",
    "    print('-'*100)\n",
    "\n",
    "compareModel(x_train, x_test, y_train, y_test)\n"
   ]
  },
  {
   "cell_type": "code",
   "execution_count": null,
   "id": "31ddf0d6",
   "metadata": {},
   "outputs": [],
   "source": [
    "rf_model = RandomForestClassifier()\n",
    "rf_model.fit(x_train, y_train)\n",
    "\n",
    "y_pred = rf_model.predict(x_test)\n",
    "confusion_matrix(y_test,y_pred)"
   ]
  },
  {
   "cell_type": "code",
   "execution_count": null,
   "id": "00be758a",
   "metadata": {
    "scrolled": true
   },
   "outputs": [],
   "source": [
    "model_eval = cross_val_score(estimator=rf_model, X=x_train, y=y_train, cv=5) \n",
    "model_eval.mean()"
   ]
  },
  {
   "cell_type": "code",
   "execution_count": 104,
   "id": "723e0be8",
   "metadata": {},
   "outputs": [],
   "source": [
    "pickle.dump(rf_model,open('WineQuality_New.pkl','wb'))"
   ]
  }
 ],
 "metadata": {
  "kernelspec": {
   "display_name": "Python 3",
   "language": "python",
   "name": "python3"
  },
  "language_info": {
   "codemirror_mode": {
    "name": "ipython",
    "version": 3
   },
   "file_extension": ".py",
   "mimetype": "text/x-python",
   "name": "python",
   "nbconvert_exporter": "python",
   "pygments_lexer": "ipython3",
   "version": "3.13.1"
  }
 },
 "nbformat": 4,
 "nbformat_minor": 5
}
